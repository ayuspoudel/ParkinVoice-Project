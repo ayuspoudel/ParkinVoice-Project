{
 "cells": [
  {
   "cell_type": "code",
   "execution_count": 1,
   "id": "306569be",
   "metadata": {},
   "outputs": [],
   "source": [
    "import pandas as pd\n",
    "import numpy as np\n",
    "from sklearn.preprocessing import StandardScaler\n",
    "from sklearn.model_selection import train_test_split\n",
    "from tensorflow import keras\n",
    "from tensorflow.keras.models import Sequential\n",
    "from tensorflow.keras.layers import Dense\n",
    "from tensorflow.keras.layers import Dropout\n",
    "from sklearn.metrics import confusion_matrix\n",
    "import seaborn as sns\n",
    "from sklearn.metrics import accuracy_score, f1_score\n",
    "from sklearn.metrics import roc_curve\n",
    "from sklearn import metrics\n",
    "from matplotlib import pyplot as plt\n",
    "import tensorflow as tf\n",
    "from numpy.random import seed\n",
    "seed(1)\n",
    "tf.random.set_seed(1234)\n"
   ]
  },
  {
   "cell_type": "markdown",
   "id": "a889f4e7",
   "metadata": {},
   "source": [
    "### Data Preprocessing"
   ]
  },
  {
   "cell_type": "code",
   "execution_count": 2,
   "id": "c181c7e1",
   "metadata": {},
   "outputs": [],
   "source": [
    "df = pd.read_csv('parkinsons.data') ## importing the file and storing into the dataframe 'df'"
   ]
  },
  {
   "cell_type": "code",
   "execution_count": 3,
   "id": "86388cde",
   "metadata": {},
   "outputs": [
    {
     "data": {
      "text/html": [
       "<div>\n",
       "<style scoped>\n",
       "    .dataframe tbody tr th:only-of-type {\n",
       "        vertical-align: middle;\n",
       "    }\n",
       "\n",
       "    .dataframe tbody tr th {\n",
       "        vertical-align: top;\n",
       "    }\n",
       "\n",
       "    .dataframe thead th {\n",
       "        text-align: right;\n",
       "    }\n",
       "</style>\n",
       "<table border=\"1\" class=\"dataframe\">\n",
       "  <thead>\n",
       "    <tr style=\"text-align: right;\">\n",
       "      <th></th>\n",
       "      <th>name</th>\n",
       "      <th>MDVP:Fo(Hz)</th>\n",
       "      <th>MDVP:Fhi(Hz)</th>\n",
       "      <th>MDVP:Flo(Hz)</th>\n",
       "      <th>MDVP:Jitter(%)</th>\n",
       "      <th>MDVP:Jitter(Abs)</th>\n",
       "      <th>MDVP:RAP</th>\n",
       "      <th>MDVP:PPQ</th>\n",
       "      <th>Jitter:DDP</th>\n",
       "      <th>MDVP:Shimmer</th>\n",
       "      <th>...</th>\n",
       "      <th>Shimmer:DDA</th>\n",
       "      <th>NHR</th>\n",
       "      <th>HNR</th>\n",
       "      <th>status</th>\n",
       "      <th>RPDE</th>\n",
       "      <th>DFA</th>\n",
       "      <th>spread1</th>\n",
       "      <th>spread2</th>\n",
       "      <th>D2</th>\n",
       "      <th>PPE</th>\n",
       "    </tr>\n",
       "  </thead>\n",
       "  <tbody>\n",
       "    <tr>\n",
       "      <th>0</th>\n",
       "      <td>phon_R01_S01_1</td>\n",
       "      <td>119.992</td>\n",
       "      <td>157.302</td>\n",
       "      <td>74.997</td>\n",
       "      <td>0.00784</td>\n",
       "      <td>0.00007</td>\n",
       "      <td>0.00370</td>\n",
       "      <td>0.00554</td>\n",
       "      <td>0.01109</td>\n",
       "      <td>0.04374</td>\n",
       "      <td>...</td>\n",
       "      <td>0.06545</td>\n",
       "      <td>0.02211</td>\n",
       "      <td>21.033</td>\n",
       "      <td>1</td>\n",
       "      <td>0.414783</td>\n",
       "      <td>0.815285</td>\n",
       "      <td>-4.813031</td>\n",
       "      <td>0.266482</td>\n",
       "      <td>2.301442</td>\n",
       "      <td>0.284654</td>\n",
       "    </tr>\n",
       "    <tr>\n",
       "      <th>1</th>\n",
       "      <td>phon_R01_S01_2</td>\n",
       "      <td>122.400</td>\n",
       "      <td>148.650</td>\n",
       "      <td>113.819</td>\n",
       "      <td>0.00968</td>\n",
       "      <td>0.00008</td>\n",
       "      <td>0.00465</td>\n",
       "      <td>0.00696</td>\n",
       "      <td>0.01394</td>\n",
       "      <td>0.06134</td>\n",
       "      <td>...</td>\n",
       "      <td>0.09403</td>\n",
       "      <td>0.01929</td>\n",
       "      <td>19.085</td>\n",
       "      <td>1</td>\n",
       "      <td>0.458359</td>\n",
       "      <td>0.819521</td>\n",
       "      <td>-4.075192</td>\n",
       "      <td>0.335590</td>\n",
       "      <td>2.486855</td>\n",
       "      <td>0.368674</td>\n",
       "    </tr>\n",
       "    <tr>\n",
       "      <th>2</th>\n",
       "      <td>phon_R01_S01_3</td>\n",
       "      <td>116.682</td>\n",
       "      <td>131.111</td>\n",
       "      <td>111.555</td>\n",
       "      <td>0.01050</td>\n",
       "      <td>0.00009</td>\n",
       "      <td>0.00544</td>\n",
       "      <td>0.00781</td>\n",
       "      <td>0.01633</td>\n",
       "      <td>0.05233</td>\n",
       "      <td>...</td>\n",
       "      <td>0.08270</td>\n",
       "      <td>0.01309</td>\n",
       "      <td>20.651</td>\n",
       "      <td>1</td>\n",
       "      <td>0.429895</td>\n",
       "      <td>0.825288</td>\n",
       "      <td>-4.443179</td>\n",
       "      <td>0.311173</td>\n",
       "      <td>2.342259</td>\n",
       "      <td>0.332634</td>\n",
       "    </tr>\n",
       "    <tr>\n",
       "      <th>3</th>\n",
       "      <td>phon_R01_S01_4</td>\n",
       "      <td>116.676</td>\n",
       "      <td>137.871</td>\n",
       "      <td>111.366</td>\n",
       "      <td>0.00997</td>\n",
       "      <td>0.00009</td>\n",
       "      <td>0.00502</td>\n",
       "      <td>0.00698</td>\n",
       "      <td>0.01505</td>\n",
       "      <td>0.05492</td>\n",
       "      <td>...</td>\n",
       "      <td>0.08771</td>\n",
       "      <td>0.01353</td>\n",
       "      <td>20.644</td>\n",
       "      <td>1</td>\n",
       "      <td>0.434969</td>\n",
       "      <td>0.819235</td>\n",
       "      <td>-4.117501</td>\n",
       "      <td>0.334147</td>\n",
       "      <td>2.405554</td>\n",
       "      <td>0.368975</td>\n",
       "    </tr>\n",
       "    <tr>\n",
       "      <th>4</th>\n",
       "      <td>phon_R01_S01_5</td>\n",
       "      <td>116.014</td>\n",
       "      <td>141.781</td>\n",
       "      <td>110.655</td>\n",
       "      <td>0.01284</td>\n",
       "      <td>0.00011</td>\n",
       "      <td>0.00655</td>\n",
       "      <td>0.00908</td>\n",
       "      <td>0.01966</td>\n",
       "      <td>0.06425</td>\n",
       "      <td>...</td>\n",
       "      <td>0.10470</td>\n",
       "      <td>0.01767</td>\n",
       "      <td>19.649</td>\n",
       "      <td>1</td>\n",
       "      <td>0.417356</td>\n",
       "      <td>0.823484</td>\n",
       "      <td>-3.747787</td>\n",
       "      <td>0.234513</td>\n",
       "      <td>2.332180</td>\n",
       "      <td>0.410335</td>\n",
       "    </tr>\n",
       "    <tr>\n",
       "      <th>5</th>\n",
       "      <td>phon_R01_S01_6</td>\n",
       "      <td>120.552</td>\n",
       "      <td>131.162</td>\n",
       "      <td>113.787</td>\n",
       "      <td>0.00968</td>\n",
       "      <td>0.00008</td>\n",
       "      <td>0.00463</td>\n",
       "      <td>0.00750</td>\n",
       "      <td>0.01388</td>\n",
       "      <td>0.04701</td>\n",
       "      <td>...</td>\n",
       "      <td>0.06985</td>\n",
       "      <td>0.01222</td>\n",
       "      <td>21.378</td>\n",
       "      <td>1</td>\n",
       "      <td>0.415564</td>\n",
       "      <td>0.825069</td>\n",
       "      <td>-4.242867</td>\n",
       "      <td>0.299111</td>\n",
       "      <td>2.187560</td>\n",
       "      <td>0.357775</td>\n",
       "    </tr>\n",
       "    <tr>\n",
       "      <th>6</th>\n",
       "      <td>phon_R01_S02_1</td>\n",
       "      <td>120.267</td>\n",
       "      <td>137.244</td>\n",
       "      <td>114.820</td>\n",
       "      <td>0.00333</td>\n",
       "      <td>0.00003</td>\n",
       "      <td>0.00155</td>\n",
       "      <td>0.00202</td>\n",
       "      <td>0.00466</td>\n",
       "      <td>0.01608</td>\n",
       "      <td>...</td>\n",
       "      <td>0.02337</td>\n",
       "      <td>0.00607</td>\n",
       "      <td>24.886</td>\n",
       "      <td>1</td>\n",
       "      <td>0.596040</td>\n",
       "      <td>0.764112</td>\n",
       "      <td>-5.634322</td>\n",
       "      <td>0.257682</td>\n",
       "      <td>1.854785</td>\n",
       "      <td>0.211756</td>\n",
       "    </tr>\n",
       "    <tr>\n",
       "      <th>7</th>\n",
       "      <td>phon_R01_S02_2</td>\n",
       "      <td>107.332</td>\n",
       "      <td>113.840</td>\n",
       "      <td>104.315</td>\n",
       "      <td>0.00290</td>\n",
       "      <td>0.00003</td>\n",
       "      <td>0.00144</td>\n",
       "      <td>0.00182</td>\n",
       "      <td>0.00431</td>\n",
       "      <td>0.01567</td>\n",
       "      <td>...</td>\n",
       "      <td>0.02487</td>\n",
       "      <td>0.00344</td>\n",
       "      <td>26.892</td>\n",
       "      <td>1</td>\n",
       "      <td>0.637420</td>\n",
       "      <td>0.763262</td>\n",
       "      <td>-6.167603</td>\n",
       "      <td>0.183721</td>\n",
       "      <td>2.064693</td>\n",
       "      <td>0.163755</td>\n",
       "    </tr>\n",
       "    <tr>\n",
       "      <th>8</th>\n",
       "      <td>phon_R01_S02_3</td>\n",
       "      <td>95.730</td>\n",
       "      <td>132.068</td>\n",
       "      <td>91.754</td>\n",
       "      <td>0.00551</td>\n",
       "      <td>0.00006</td>\n",
       "      <td>0.00293</td>\n",
       "      <td>0.00332</td>\n",
       "      <td>0.00880</td>\n",
       "      <td>0.02093</td>\n",
       "      <td>...</td>\n",
       "      <td>0.03218</td>\n",
       "      <td>0.01070</td>\n",
       "      <td>21.812</td>\n",
       "      <td>1</td>\n",
       "      <td>0.615551</td>\n",
       "      <td>0.773587</td>\n",
       "      <td>-5.498678</td>\n",
       "      <td>0.327769</td>\n",
       "      <td>2.322511</td>\n",
       "      <td>0.231571</td>\n",
       "    </tr>\n",
       "    <tr>\n",
       "      <th>9</th>\n",
       "      <td>phon_R01_S02_4</td>\n",
       "      <td>95.056</td>\n",
       "      <td>120.103</td>\n",
       "      <td>91.226</td>\n",
       "      <td>0.00532</td>\n",
       "      <td>0.00006</td>\n",
       "      <td>0.00268</td>\n",
       "      <td>0.00332</td>\n",
       "      <td>0.00803</td>\n",
       "      <td>0.02838</td>\n",
       "      <td>...</td>\n",
       "      <td>0.04324</td>\n",
       "      <td>0.01022</td>\n",
       "      <td>21.862</td>\n",
       "      <td>1</td>\n",
       "      <td>0.547037</td>\n",
       "      <td>0.798463</td>\n",
       "      <td>-5.011879</td>\n",
       "      <td>0.325996</td>\n",
       "      <td>2.432792</td>\n",
       "      <td>0.271362</td>\n",
       "    </tr>\n",
       "  </tbody>\n",
       "</table>\n",
       "<p>10 rows × 24 columns</p>\n",
       "</div>"
      ],
      "text/plain": [
       "             name  MDVP:Fo(Hz)  MDVP:Fhi(Hz)  MDVP:Flo(Hz)  MDVP:Jitter(%)  \\\n",
       "0  phon_R01_S01_1      119.992       157.302        74.997         0.00784   \n",
       "1  phon_R01_S01_2      122.400       148.650       113.819         0.00968   \n",
       "2  phon_R01_S01_3      116.682       131.111       111.555         0.01050   \n",
       "3  phon_R01_S01_4      116.676       137.871       111.366         0.00997   \n",
       "4  phon_R01_S01_5      116.014       141.781       110.655         0.01284   \n",
       "5  phon_R01_S01_6      120.552       131.162       113.787         0.00968   \n",
       "6  phon_R01_S02_1      120.267       137.244       114.820         0.00333   \n",
       "7  phon_R01_S02_2      107.332       113.840       104.315         0.00290   \n",
       "8  phon_R01_S02_3       95.730       132.068        91.754         0.00551   \n",
       "9  phon_R01_S02_4       95.056       120.103        91.226         0.00532   \n",
       "\n",
       "   MDVP:Jitter(Abs)  MDVP:RAP  MDVP:PPQ  Jitter:DDP  MDVP:Shimmer  ...  \\\n",
       "0           0.00007   0.00370   0.00554     0.01109       0.04374  ...   \n",
       "1           0.00008   0.00465   0.00696     0.01394       0.06134  ...   \n",
       "2           0.00009   0.00544   0.00781     0.01633       0.05233  ...   \n",
       "3           0.00009   0.00502   0.00698     0.01505       0.05492  ...   \n",
       "4           0.00011   0.00655   0.00908     0.01966       0.06425  ...   \n",
       "5           0.00008   0.00463   0.00750     0.01388       0.04701  ...   \n",
       "6           0.00003   0.00155   0.00202     0.00466       0.01608  ...   \n",
       "7           0.00003   0.00144   0.00182     0.00431       0.01567  ...   \n",
       "8           0.00006   0.00293   0.00332     0.00880       0.02093  ...   \n",
       "9           0.00006   0.00268   0.00332     0.00803       0.02838  ...   \n",
       "\n",
       "   Shimmer:DDA      NHR     HNR  status      RPDE       DFA   spread1  \\\n",
       "0      0.06545  0.02211  21.033       1  0.414783  0.815285 -4.813031   \n",
       "1      0.09403  0.01929  19.085       1  0.458359  0.819521 -4.075192   \n",
       "2      0.08270  0.01309  20.651       1  0.429895  0.825288 -4.443179   \n",
       "3      0.08771  0.01353  20.644       1  0.434969  0.819235 -4.117501   \n",
       "4      0.10470  0.01767  19.649       1  0.417356  0.823484 -3.747787   \n",
       "5      0.06985  0.01222  21.378       1  0.415564  0.825069 -4.242867   \n",
       "6      0.02337  0.00607  24.886       1  0.596040  0.764112 -5.634322   \n",
       "7      0.02487  0.00344  26.892       1  0.637420  0.763262 -6.167603   \n",
       "8      0.03218  0.01070  21.812       1  0.615551  0.773587 -5.498678   \n",
       "9      0.04324  0.01022  21.862       1  0.547037  0.798463 -5.011879   \n",
       "\n",
       "    spread2        D2       PPE  \n",
       "0  0.266482  2.301442  0.284654  \n",
       "1  0.335590  2.486855  0.368674  \n",
       "2  0.311173  2.342259  0.332634  \n",
       "3  0.334147  2.405554  0.368975  \n",
       "4  0.234513  2.332180  0.410335  \n",
       "5  0.299111  2.187560  0.357775  \n",
       "6  0.257682  1.854785  0.211756  \n",
       "7  0.183721  2.064693  0.163755  \n",
       "8  0.327769  2.322511  0.231571  \n",
       "9  0.325996  2.432792  0.271362  \n",
       "\n",
       "[10 rows x 24 columns]"
      ]
     },
     "execution_count": 3,
     "metadata": {},
     "output_type": "execute_result"
    }
   ],
   "source": [
    "df.head(10)"
   ]
  },
  {
   "cell_type": "code",
   "execution_count": 4,
   "id": "cb4f0645",
   "metadata": {},
   "outputs": [],
   "source": [
    "df_status = df[['status']] \n",
    "df_status = df_status.to_numpy()"
   ]
  },
  {
   "cell_type": "code",
   "execution_count": 5,
   "id": "14c7c24f",
   "metadata": {},
   "outputs": [],
   "source": [
    "df = df.drop('name',axis = 1)"
   ]
  },
  {
   "cell_type": "code",
   "execution_count": 6,
   "id": "cc1710d4",
   "metadata": {},
   "outputs": [],
   "source": [
    "df = df.drop('status',axis = 1) #Droppping the target variable from the main dataset"
   ]
  },
  {
   "cell_type": "code",
   "execution_count": 7,
   "id": "0fc0fe27",
   "metadata": {},
   "outputs": [],
   "source": [
    "#from sklearn.preprocessing import StandardScaler\n",
    "\n",
    "scaler = StandardScaler()\n",
    "\n",
    "df_scaled = scaler.fit_transform(df)"
   ]
  },
  {
   "cell_type": "code",
   "execution_count": 8,
   "id": "c3705397",
   "metadata": {},
   "outputs": [
    {
     "data": {
      "text/plain": [
       "(195, 1)"
      ]
     },
     "execution_count": 8,
     "metadata": {},
     "output_type": "execute_result"
    }
   ],
   "source": [
    "df_status.shape"
   ]
  },
  {
   "cell_type": "code",
   "execution_count": 9,
   "id": "e2f0aaaf",
   "metadata": {},
   "outputs": [
    {
     "data": {
      "text/plain": [
       "(195, 22)"
      ]
     },
     "execution_count": 9,
     "metadata": {},
     "output_type": "execute_result"
    }
   ],
   "source": [
    "df_scaled.shape"
   ]
  },
  {
   "cell_type": "code",
   "execution_count": 10,
   "id": "5feca3db",
   "metadata": {},
   "outputs": [],
   "source": [
    "X_train, X_test, y_train, y_test = train_test_split(df_scaled, df_status, test_size=0.2,random_state = 21, stratify = df_status)"
   ]
  },
  {
   "cell_type": "code",
   "execution_count": null,
   "id": "6fa4f550",
   "metadata": {},
   "outputs": [],
   "source": []
  },
  {
   "cell_type": "markdown",
   "id": "b560d219",
   "metadata": {},
   "source": [
    "### Depp Neural Net model"
   ]
  },
  {
   "cell_type": "code",
   "execution_count": 11,
   "id": "fe987fe5",
   "metadata": {},
   "outputs": [],
   "source": [
    "adam = keras.optimizers.Adam(learning_rate = 0.005)"
   ]
  },
  {
   "cell_type": "code",
   "execution_count": 12,
   "id": "6a9885f3",
   "metadata": {},
   "outputs": [],
   "source": [
    "\n",
    "model = Sequential()\n",
    "\n",
    "model.add(Dense(100, input_dim=22, activation='relu'))\n",
    "\n",
    "model.add(Dropout(0.4))\n",
    "\n",
    "model.add(Dense(75, activation='relu'))\n",
    "\n",
    "\n",
    "model.add(Dropout(0.5))\n",
    "\n",
    "model.add(Dense(25, activation='relu'))\n",
    "\n",
    "\n",
    "model.add(Dense(1, activation='sigmoid'))\n",
    "\n"
   ]
  },
  {
   "cell_type": "code",
   "execution_count": 13,
   "id": "457ae172",
   "metadata": {},
   "outputs": [],
   "source": [
    "model.compile(loss='binary_crossentropy', optimizer=adam, metrics=['accuracy'])"
   ]
  },
  {
   "cell_type": "code",
   "execution_count": 14,
   "id": "dd174da3",
   "metadata": {},
   "outputs": [
    {
     "name": "stdout",
     "output_type": "stream",
     "text": [
      "Epoch 1/50\n",
      "7/7 [==============================] - 0s 20ms/step - loss: 0.8035 - accuracy: 0.5769 - val_loss: 0.5336 - val_accuracy: 0.7436\n",
      "Epoch 2/50\n",
      "7/7 [==============================] - 0s 2ms/step - loss: 0.5246 - accuracy: 0.7564 - val_loss: 0.3929 - val_accuracy: 0.8718\n",
      "Epoch 3/50\n",
      "7/7 [==============================] - 0s 2ms/step - loss: 0.3990 - accuracy: 0.8077 - val_loss: 0.3148 - val_accuracy: 0.8718\n",
      "Epoch 4/50\n",
      "7/7 [==============================] - 0s 2ms/step - loss: 0.3913 - accuracy: 0.7692 - val_loss: 0.2975 - val_accuracy: 0.8718\n",
      "Epoch 5/50\n",
      "7/7 [==============================] - 0s 2ms/step - loss: 0.3329 - accuracy: 0.8205 - val_loss: 0.3235 - val_accuracy: 0.8718\n",
      "Epoch 6/50\n",
      "7/7 [==============================] - 0s 2ms/step - loss: 0.2790 - accuracy: 0.8718 - val_loss: 0.3379 - val_accuracy: 0.8718\n",
      "Epoch 7/50\n",
      "7/7 [==============================] - 0s 2ms/step - loss: 0.2716 - accuracy: 0.8654 - val_loss: 0.2934 - val_accuracy: 0.8718\n",
      "Epoch 8/50\n",
      "7/7 [==============================] - 0s 887us/step - loss: 0.2445 - accuracy: 0.8974 - val_loss: 0.2987 - val_accuracy: 0.8718\n",
      "Epoch 9/50\n",
      "7/7 [==============================] - 0s 3ms/step - loss: 0.2250 - accuracy: 0.8974 - val_loss: 0.2567 - val_accuracy: 0.8718\n",
      "Epoch 10/50\n",
      "7/7 [==============================] - 0s 2ms/step - loss: 0.2483 - accuracy: 0.8846 - val_loss: 0.2522 - val_accuracy: 0.8718\n",
      "Epoch 11/50\n",
      "7/7 [==============================] - 0s 3ms/step - loss: 0.1831 - accuracy: 0.9231 - val_loss: 0.2659 - val_accuracy: 0.8718\n",
      "Epoch 12/50\n",
      "7/7 [==============================] - 0s 1ms/step - loss: 0.2110 - accuracy: 0.8974 - val_loss: 0.2231 - val_accuracy: 0.8718\n",
      "Epoch 13/50\n",
      "7/7 [==============================] - 0s 2ms/step - loss: 0.1688 - accuracy: 0.9103 - val_loss: 0.2380 - val_accuracy: 0.8718\n",
      "Epoch 14/50\n",
      "7/7 [==============================] - 0s 4ms/step - loss: 0.1484 - accuracy: 0.9231 - val_loss: 0.2637 - val_accuracy: 0.8718\n",
      "Epoch 15/50\n",
      "7/7 [==============================] - 0s 899us/step - loss: 0.2138 - accuracy: 0.9295 - val_loss: 0.2154 - val_accuracy: 0.8718\n",
      "Epoch 16/50\n",
      "7/7 [==============================] - 0s 2ms/step - loss: 0.1342 - accuracy: 0.9487 - val_loss: 0.2433 - val_accuracy: 0.8718\n",
      "Epoch 17/50\n",
      "7/7 [==============================] - 0s 3ms/step - loss: 0.1497 - accuracy: 0.9359 - val_loss: 0.2613 - val_accuracy: 0.8718\n",
      "Epoch 18/50\n",
      "7/7 [==============================] - 0s 527us/step - loss: 0.1399 - accuracy: 0.9487 - val_loss: 0.1915 - val_accuracy: 0.8974\n",
      "Epoch 19/50\n",
      "7/7 [==============================] - 0s 2ms/step - loss: 0.1189 - accuracy: 0.9359 - val_loss: 0.1974 - val_accuracy: 0.8718\n",
      "Epoch 20/50\n",
      "7/7 [==============================] - 0s 2ms/step - loss: 0.1410 - accuracy: 0.9423 - val_loss: 0.2160 - val_accuracy: 0.8718\n",
      "Epoch 21/50\n",
      "7/7 [==============================] - 0s 2ms/step - loss: 0.1238 - accuracy: 0.9423 - val_loss: 0.1881 - val_accuracy: 0.8974\n",
      "Epoch 22/50\n",
      "7/7 [==============================] - 0s 540us/step - loss: 0.1118 - accuracy: 0.9423 - val_loss: 0.1652 - val_accuracy: 0.8974\n",
      "Epoch 23/50\n",
      "7/7 [==============================] - 0s 2ms/step - loss: 0.1059 - accuracy: 0.9487 - val_loss: 0.1974 - val_accuracy: 0.8974\n",
      "Epoch 24/50\n",
      "7/7 [==============================] - 0s 2ms/step - loss: 0.1089 - accuracy: 0.9679 - val_loss: 0.1588 - val_accuracy: 0.9231\n",
      "Epoch 25/50\n",
      "7/7 [==============================] - 0s 2ms/step - loss: 0.1686 - accuracy: 0.9359 - val_loss: 0.1725 - val_accuracy: 0.9231\n",
      "Epoch 26/50\n",
      "7/7 [==============================] - 0s 3ms/step - loss: 0.1172 - accuracy: 0.9551 - val_loss: 0.2645 - val_accuracy: 0.8974\n",
      "Epoch 27/50\n",
      "7/7 [==============================] - 0s 2ms/step - loss: 0.1456 - accuracy: 0.9295 - val_loss: 0.1549 - val_accuracy: 0.8974\n",
      "Epoch 28/50\n",
      "7/7 [==============================] - 0s 2ms/step - loss: 0.1312 - accuracy: 0.9615 - val_loss: 0.1480 - val_accuracy: 0.8974\n",
      "Epoch 29/50\n",
      "7/7 [==============================] - 0s 2ms/step - loss: 0.0840 - accuracy: 0.9744 - val_loss: 0.1931 - val_accuracy: 0.8718\n",
      "Epoch 30/50\n",
      "7/7 [==============================] - 0s 2ms/step - loss: 0.0899 - accuracy: 0.9615 - val_loss: 0.1309 - val_accuracy: 0.9231\n",
      "Epoch 31/50\n",
      "7/7 [==============================] - 0s 3ms/step - loss: 0.0842 - accuracy: 0.9615 - val_loss: 0.0888 - val_accuracy: 0.9487\n",
      "Epoch 32/50\n",
      "7/7 [==============================] - 0s 2ms/step - loss: 0.0749 - accuracy: 0.9744 - val_loss: 0.1760 - val_accuracy: 0.8974\n",
      "Epoch 33/50\n",
      "7/7 [==============================] - 0s 2ms/step - loss: 0.1372 - accuracy: 0.9551 - val_loss: 0.1658 - val_accuracy: 0.8974\n",
      "Epoch 34/50\n",
      "7/7 [==============================] - 0s 3ms/step - loss: 0.0916 - accuracy: 0.9615 - val_loss: 0.1323 - val_accuracy: 0.9487\n",
      "Epoch 35/50\n",
      "7/7 [==============================] - 0s 2ms/step - loss: 0.0979 - accuracy: 0.9551 - val_loss: 0.1568 - val_accuracy: 0.9231\n",
      "Epoch 36/50\n",
      "7/7 [==============================] - 0s 2ms/step - loss: 0.0840 - accuracy: 0.9744 - val_loss: 0.1665 - val_accuracy: 0.9231\n",
      "Epoch 00036: early stopping\n"
     ]
    },
    {
     "data": {
      "text/plain": [
       "<tensorflow.python.keras.callbacks.History at 0x2270f68ea00>"
      ]
     },
     "execution_count": 14,
     "metadata": {},
     "output_type": "execute_result"
    }
   ],
   "source": [
    "from tensorflow.keras.callbacks import EarlyStopping\n",
    "\n",
    "\n",
    "earlystop = EarlyStopping(monitor='val_loss', patience=5, verbose=1, mode='auto')\n",
    "\n",
    "callback = [earlystop]\n",
    "\n",
    "model.fit(X_train, y_train, validation_data=(X_test, y_test), \n",
    "          epochs=50, batch_size=25, callbacks=callback)"
   ]
  },
  {
   "cell_type": "code",
   "execution_count": 15,
   "id": "38a00503",
   "metadata": {},
   "outputs": [
    {
     "name": "stdout",
     "output_type": "stream",
     "text": [
      "2/2 [==============================] - 0s 625us/step - loss: 0.1665 - accuracy: 0.9231\n",
      " loss: 0.1665443629026413\n",
      " accuracy: 0.9230769276618958\n"
     ]
    }
   ],
   "source": [
    "score = model.evaluate(X_test, y_test)\n",
    "print(' loss:', score[0])\n",
    "print(' accuracy:', score[1])"
   ]
  },
  {
   "cell_type": "code",
   "execution_count": 16,
   "id": "89abdf92",
   "metadata": {},
   "outputs": [],
   "source": [
    "y_pred = model.predict(X_test)\n",
    "\n",
    "y_pred = (y_pred > 0.5)\n",
    "\n",
    "#y_pred\n",
    "\n"
   ]
  },
  {
   "cell_type": "markdown",
   "id": "31bbe3a1",
   "metadata": {},
   "source": [
    "### ROC Curve"
   ]
  },
  {
   "cell_type": "code",
   "execution_count": 17,
   "id": "9d943672",
   "metadata": {},
   "outputs": [],
   "source": [
    "a = pd.DataFrame(\n",
    "\n",
    "confusion_matrix(y_test, y_pred),\n",
    "\n",
    "columns=['Predicted Healthy', 'Predicted Parkinsons'],\n",
    "\n",
    "index=['True Healthy', 'True Parkinsons']\n",
    "\n",
    ")"
   ]
  },
  {
   "cell_type": "code",
   "execution_count": 18,
   "id": "2eea8f01",
   "metadata": {},
   "outputs": [
    {
     "data": {
      "text/plain": [
       "array([[ 7,  3],\n",
       "       [ 0, 29]], dtype=int64)"
      ]
     },
     "execution_count": 18,
     "metadata": {},
     "output_type": "execute_result"
    }
   ],
   "source": [
    "confusion_matrix(y_test, y_pred)"
   ]
  },
  {
   "cell_type": "markdown",
   "id": "117020a5",
   "metadata": {},
   "source": [
    "### Confusion Matrix"
   ]
  },
  {
   "cell_type": "code",
   "execution_count": 19,
   "id": "0ed39ea6",
   "metadata": {},
   "outputs": [
    {
     "data": {
      "text/plain": [
       "<AxesSubplot:>"
      ]
     },
     "execution_count": 19,
     "metadata": {},
     "output_type": "execute_result"
    },
    {
     "data": {
      "image/png": "[encoded data removed]",
      "text/plain": [
       "<Figure size 432x288 with 2 Axes>"
      ]
     },
     "metadata": {
      "needs_background": "light"
     },
     "output_type": "display_data"
    }
   ],
   "source": [
    "import seaborn as sns\n",
    "\n",
    "\n",
    "sns.heatmap(a, cmap ='Blues', linewidths = 0.30, annot = True)"
   ]
  },
  {
   "cell_type": "code",
   "execution_count": 20,
   "id": "697d7c9a",
   "metadata": {},
   "outputs": [
    {
     "data": {
      "text/plain": [
       "<AxesSubplot:>"
      ]
     },
     "execution_count": 20,
     "metadata": {},
     "output_type": "execute_result"
    },
    {
     "data": {
      "image/png": "[encoded data removed]",
      "text/plain": [
       "<Figure size 432x288 with 2 Axes>"
      ]
     },
     "metadata": {
      "needs_background": "light"
     },
     "output_type": "display_data"
    }
   ],
   "source": [
    "sns.heatmap(a/np.sum(a), annot=True, \n",
    "            fmt='.2%', cmap='Blues')"
   ]
  },
  {
   "cell_type": "code",
   "execution_count": 21,
   "id": "bb687b94",
   "metadata": {},
   "outputs": [
    {
     "data": {
      "image/png": "[encoded data removed]",
      "text/plain": [
       "<Figure size 432x288 with 1 Axes>"
      ]
     },
     "metadata": {
      "needs_background": "light"
     },
     "output_type": "display_data"
    }
   ],
   "source": [
    "y_pred = model.predict(X_test)\n",
    "fpr, tpr, threshold = metrics.roc_curve(y_test,  y_pred)\n",
    "auc = metrics.roc_auc_score(y_test, y_pred)\n",
    "plt.plot(fpr,tpr,label=\"Area Under the Curve=\"+str(auc))\n",
    "plt.legend()\n",
    "plt.show()"
   ]
  },
  {
   "cell_type": "code",
   "execution_count": 22,
   "id": "46613294",
   "metadata": {},
   "outputs": [],
   "source": [
    "y_pred = y_pred > 0.5"
   ]
  },
  {
   "cell_type": "code",
   "execution_count": 23,
   "id": "488ee13b",
   "metadata": {},
   "outputs": [
    {
     "name": "stdout",
     "output_type": "stream",
     "text": [
      "The F1 Score of the model is 0.9508196721311475\n"
     ]
    }
   ],
   "source": [
    "print(\"The F1 Score of the model is\",f1_score(y_test,y_pred))"
   ]
  },
  {
   "cell_type": "code",
   "execution_count": 24,
   "id": "badf85e1",
   "metadata": {},
   "outputs": [
    {
     "name": "stdout",
     "output_type": "stream",
     "text": [
      "The Accuracy of the model is 0.9230769230769231\n"
     ]
    }
   ],
   "source": [
    "print (\"The Accuracy of the model is\",accuracy_score(y_test,y_pred))"
   ]
  },
  {
   "cell_type": "code",
   "execution_count": 25,
   "id": "017a1c25",
   "metadata": {},
   "outputs": [],
   "source": [
    "from sklearn.metrics import precision_score, recall_score"
   ]
  },
  {
   "cell_type": "code",
   "execution_count": 26,
   "id": "f7573c3f",
   "metadata": {},
   "outputs": [
    {
     "name": "stdout",
     "output_type": "stream",
     "text": [
      "Precision: 0.906\n"
     ]
    }
   ],
   "source": [
    "print('Precision: %.3f' % precision_score(y_test, y_pred))"
   ]
  },
  {
   "cell_type": "code",
   "execution_count": 27,
   "id": "4c9b5cc9",
   "metadata": {},
   "outputs": [
    {
     "name": "stdout",
     "output_type": "stream",
     "text": [
      "Recall : 1.000\n"
     ]
    }
   ],
   "source": [
    "print('Recall : %.3f' % recall_score(y_test, y_pred))"
   ]
  }
 ],
 "metadata": {
  "kernelspec": {
   "display_name": "Python 3",
   "language": "python",
   "name": "python3"
  },
  "language_info": {
   "codemirror_mode": {
    "name": "ipython",
    "version": 3
   },
   "file_extension": ".py",
   "mimetype": "text/x-python",
   "name": "python",
   "nbconvert_exporter": "python",
   "pygments_lexer": "ipython3",
   "version": "3.8.8"
  }
 },
 "nbformat": 4,
 "nbformat_minor": 5
}
